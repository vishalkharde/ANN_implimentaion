{
  "nbformat": 4,
  "nbformat_minor": 0,
  "metadata": {
    "colab": {
      "name": "ANN_implimentation_demo.ipynb",
      "provenance": [],
      "collapsed_sections": [],
      "authorship_tag": "ABX9TyNWJv7H2U2vz3xEm1hvvz3S",
      "include_colab_link": true
    },
    "kernelspec": {
      "name": "python3",
      "display_name": "Python 3"
    },
    "language_info": {
      "name": "python"
    },
    "accelerator": "GPU"
  },
  "cells": [
    {
      "cell_type": "markdown",
      "metadata": {
        "id": "view-in-github",
        "colab_type": "text"
      },
      "source": [
        "<a href=\"https://colab.research.google.com/github/vishalkharde/ANN_implimentaion/blob/main/ANN_implimentation_demo.ipynb\" target=\"_parent\"><img src=\"https://colab.research.google.com/assets/colab-badge.svg\" alt=\"Open In Colab\"/></a>"
      ]
    },
    {
      "cell_type": "code",
      "metadata": {
        "id": "zLuNO6fPyQgg"
      },
      "source": [
        "import tensorflow as tf\n"
      ],
      "execution_count": null,
      "outputs": []
    },
    {
      "cell_type": "code",
      "metadata": {
        "colab": {
          "base_uri": "https://localhost:8080/",
          "height": 35
        },
        "id": "mEN9YJ5vzrJ2",
        "outputId": "02111d6d-a784-4016-ebcc-c4441d6f370d"
      },
      "source": [
        "tf.__version__"
      ],
      "execution_count": null,
      "outputs": [
        {
          "output_type": "execute_result",
          "data": {
            "application/vnd.google.colaboratory.intrinsic+json": {
              "type": "string"
            },
            "text/plain": [
              "'2.6.0'"
            ]
          },
          "metadata": {},
          "execution_count": 99
        }
      ]
    },
    {
      "cell_type": "code",
      "metadata": {
        "colab": {
          "base_uri": "https://localhost:8080/",
          "height": 35
        },
        "id": "gTNO8kL40s9v",
        "outputId": "747d5d67-cbf4-4f9d-dbf0-21c7f33b534d"
      },
      "source": [
        "tf.keras.__version__"
      ],
      "execution_count": null,
      "outputs": [
        {
          "output_type": "execute_result",
          "data": {
            "application/vnd.google.colaboratory.intrinsic+json": {
              "type": "string"
            },
            "text/plain": [
              "'2.6.0'"
            ]
          },
          "metadata": {},
          "execution_count": 100
        }
      ]
    },
    {
      "cell_type": "markdown",
      "metadata": {
        "id": "SASNCgSM1Uwk"
      },
      "source": [
        "#keras is high level API for tensorflow"
      ]
    },
    {
      "cell_type": "code",
      "metadata": {
        "colab": {
          "base_uri": "https://localhost:8080/"
        },
        "id": "4AY6Cmsl05In",
        "outputId": "8feb085c-950a-48d5-c7cd-1da7b3cac9c2"
      },
      "source": [
        "tf.config.list_physical_devices('GPU')"
      ],
      "execution_count": null,
      "outputs": [
        {
          "output_type": "execute_result",
          "data": {
            "text/plain": [
              "[PhysicalDevice(name='/physical_device:GPU:0', device_type='GPU')]"
            ]
          },
          "metadata": {},
          "execution_count": 101
        }
      ]
    },
    {
      "cell_type": "code",
      "metadata": {
        "colab": {
          "base_uri": "https://localhost:8080/"
        },
        "id": "xo-KwP9N1KPe",
        "outputId": "65f7aa62-5fe8-427e-c33f-67f790f7849c"
      },
      "source": [
        "tf.config.list_physical_devices('CPU')"
      ],
      "execution_count": null,
      "outputs": [
        {
          "output_type": "execute_result",
          "data": {
            "text/plain": [
              "[PhysicalDevice(name='/physical_device:CPU:0', device_type='CPU')]"
            ]
          },
          "metadata": {},
          "execution_count": 103
        }
      ]
    },
    {
      "cell_type": "code",
      "metadata": {
        "id": "lxkAbCME0tFB"
      },
      "source": [
        "import numpy as np\n",
        "import matplotlib.pyplot as plt\n",
        "import pandas as pd\n",
        "import seaborn as sns"
      ],
      "execution_count": null,
      "outputs": []
    },
    {
      "cell_type": "code",
      "metadata": {
        "id": "E1NC6odG0tRw"
      },
      "source": [
        "mnist=tf.keras.datasets.mnist"
      ],
      "execution_count": null,
      "outputs": []
    },
    {
      "cell_type": "code",
      "metadata": {
        "id": "OQ_8c_L6z4ur"
      },
      "source": [
        "(X_train_full,y_train_full),(X_test,y_test)=mnist.load_data()"
      ],
      "execution_count": null,
      "outputs": []
    },
    {
      "cell_type": "code",
      "metadata": {
        "colab": {
          "base_uri": "https://localhost:8080/"
        },
        "id": "mGGKFxWy3Lds",
        "outputId": "154c63ae-0807-498e-a1da-c3ec44d59a8f"
      },
      "source": [
        "X_train_full.shape "
      ],
      "execution_count": null,
      "outputs": [
        {
          "output_type": "execute_result",
          "data": {
            "text/plain": [
              "(60000, 28, 28)"
            ]
          },
          "metadata": {},
          "execution_count": 107
        }
      ]
    },
    {
      "cell_type": "code",
      "metadata": {
        "colab": {
          "base_uri": "https://localhost:8080/"
        },
        "id": "SNdv68R18pFi",
        "outputId": "391dccd9-74f3-4d2b-b443-8120d2ebc20d"
      },
      "source": [
        "X_test.shape"
      ],
      "execution_count": null,
      "outputs": [
        {
          "output_type": "execute_result",
          "data": {
            "text/plain": [
              "(10000, 28, 28)"
            ]
          },
          "metadata": {},
          "execution_count": 108
        }
      ]
    },
    {
      "cell_type": "markdown",
      "metadata": {
        "id": "If00L3AQ82l9"
      },
      "source": [
        "image each pixel is 0 to 255 hence itis 8 bit  because of 2^8"
      ]
    },
    {
      "cell_type": "code",
      "metadata": {
        "colab": {
          "base_uri": "https://localhost:8080/"
        },
        "id": "VchufLfJ4lCA",
        "outputId": "1af86c33-587a-4320-ecae-447542cad73b"
      },
      "source": [
        "X_train_full[0].shape"
      ],
      "execution_count": null,
      "outputs": [
        {
          "output_type": "execute_result",
          "data": {
            "text/plain": [
              "(28, 28)"
            ]
          },
          "metadata": {},
          "execution_count": 70
        }
      ]
    },
    {
      "cell_type": "code",
      "metadata": {
        "colab": {
          "base_uri": "https://localhost:8080/",
          "height": 248
        },
        "id": "v-DuE70O4zTI",
        "outputId": "053f67f4-cc12-4c82-c645-ddec17c96951"
      },
      "source": [
        "img=X_train_full[0]\n",
        "plt.imshow(img,cmap='binary')\n",
        "plt.axis('off')\n",
        "plt.show()"
      ],
      "execution_count": null,
      "outputs": [
        {
          "output_type": "display_data",
          "data": {
            "image/png": "[encoded data removed]",
            "text/plain": [
              "<Figure size 432x288 with 1 Axes>"
            ]
          },
          "metadata": {
            "needs_background": "light"
          }
        }
      ]
    },
    {
      "cell_type": "code",
      "metadata": {
        "id": "hMKJY2sz5jVR"
      },
      "source": [
        ""
      ],
      "execution_count": null,
      "outputs": []
    },
    {
      "cell_type": "code",
      "metadata": {
        "colab": {
          "base_uri": "https://localhost:8080/"
        },
        "id": "nJORKGmB3LjZ",
        "outputId": "bb07f1f9-4c7c-4b1f-9c4c-ed0ad6249502"
      },
      "source": [
        "y_train_full.shape"
      ],
      "execution_count": null,
      "outputs": [
        {
          "output_type": "execute_result",
          "data": {
            "text/plain": [
              "(60000,)"
            ]
          },
          "metadata": {},
          "execution_count": 110
        }
      ]
    },
    {
      "cell_type": "code",
      "metadata": {
        "colab": {
          "base_uri": "https://localhost:8080/"
        },
        "id": "Wp5Fi0UV6lPL",
        "outputId": "b41fab93-73fc-4c9a-8a9b-34f67d25310a"
      },
      "source": [
        "img.max(),img.min()"
      ],
      "execution_count": null,
      "outputs": [
        {
          "output_type": "execute_result",
          "data": {
            "text/plain": [
              "(255, 0)"
            ]
          },
          "metadata": {},
          "execution_count": 73
        }
      ]
    },
    {
      "cell_type": "code",
      "metadata": {
        "colab": {
          "base_uri": "https://localhost:8080/",
          "height": 702
        },
        "id": "OYRn3FF53LmE",
        "outputId": "d9e2b6bc-fcb1-4931-9e0c-2a8aa0ef260b"
      },
      "source": [
        "plt.figure(figsize=(20,20))\n",
        "sns.heatmap(img/255,annot=True,cmap='binary')"
      ],
      "execution_count": null,
      "outputs": [
        {
          "output_type": "execute_result",
          "data": {
            "text/plain": [
              "<matplotlib.axes._subplots.AxesSubplot at 0x7f2847595250>"
            ]
          },
          "metadata": {},
          "execution_count": 111
        },
        {
          "output_type": "display_data",
          "data": {
            "image/png": "[encoded data removed]",
            "text/plain": [
              "<Figure size 1440x1440 with 2 Axes>"
            ]
          },
          "metadata": {
            "needs_background": "light"
          }
        }
      ]
    },
    {
      "cell_type": "code",
      "metadata": {
        "id": "licRjqqk3Lo4"
      },
      "source": [
        "X_valid,X_train=X_train_full[:5000]/255,X_train_full[5000:]/255\n",
        "y_valid,y_train=y_train_full[:5000]/255,y_train_full[5000:]/255\n",
        "X_test=X_test/255"
      ],
      "execution_count": null,
      "outputs": []
    },
    {
      "cell_type": "code",
      "metadata": {
        "id": "lWVVeiJs3LsH"
      },
      "source": [
        "LAYERS=[ \n",
        "        tf.keras.layers.Flatten(input_shape=[28,28],name='inputLayer'),\n",
        "        tf.keras.layers.Dense(300,activation='relu',name='hiddenLayer1'),\n",
        "        tf.keras.layers.Dense(100,activation='relu',name='hiddenLayer2'),\n",
        "        tf.keras.layers.Dense(10,activation='softmax',name='outputLayer')\n",
        "]"
      ],
      "execution_count": null,
      "outputs": []
    },
    {
      "cell_type": "code",
      "metadata": {
        "id": "vNdqLdVAFLXn"
      },
      "source": [
        "model_clf=tf.keras.models.Sequential(LAYERS)"
      ],
      "execution_count": null,
      "outputs": []
    },
    {
      "cell_type": "code",
      "metadata": {
        "colab": {
          "base_uri": "https://localhost:8080/"
        },
        "id": "UX2on7mtF917",
        "outputId": "69337756-b9db-4b56-d947-6a16b37a10b4"
      },
      "source": [
        "model_clf.layers"
      ],
      "execution_count": null,
      "outputs": [
        {
          "output_type": "execute_result",
          "data": {
            "text/plain": [
              "[<keras.layers.core.Flatten at 0x7f2847c24810>,\n",
              " <keras.layers.core.Dense at 0x7f28474acb10>,\n",
              " <keras.layers.core.Dense at 0x7f2841c05cd0>,\n",
              " <keras.layers.core.Dense at 0x7f2841c05450>]"
            ]
          },
          "metadata": {},
          "execution_count": 115
        }
      ]
    },
    {
      "cell_type": "code",
      "metadata": {
        "colab": {
          "base_uri": "https://localhost:8080/"
        },
        "id": "KTqdueGKF98B",
        "outputId": "aff73aa4-4349-45d2-8225-6c529bd6a1e8"
      },
      "source": [
        "model_clf.summary()"
      ],
      "execution_count": null,
      "outputs": [
        {
          "output_type": "stream",
          "name": "stdout",
          "text": [
            "Model: \"sequential_2\"\n",
            "_________________________________________________________________\n",
            "Layer (type)                 Output Shape              Param #   \n",
            "=================================================================\n",
            "inputLayer (Flatten)         (None, 784)               0         \n",
            "_________________________________________________________________\n",
            "hiddenLayer1 (Dense)         (None, 300)               235500    \n",
            "_________________________________________________________________\n",
            "hiddenLayer2 (Dense)         (None, 100)               30100     \n",
            "_________________________________________________________________\n",
            "outputLayer (Dense)          (None, 10)                1010      \n",
            "=================================================================\n",
            "Total params: 266,610\n",
            "Trainable params: 266,610\n",
            "Non-trainable params: 0\n",
            "_________________________________________________________________\n"
          ]
        }
      ]
    },
    {
      "cell_type": "code",
      "metadata": {
        "colab": {
          "base_uri": "https://localhost:8080/"
        },
        "id": "ppEBkp38GOTQ",
        "outputId": "87fbdbd2-a9ea-4f4c-9746-869247c433c6"
      },
      "source": [
        "#first_layer*second_layer+bais\n",
        "784*300+300,300*100+100,100*10+10"
      ],
      "execution_count": null,
      "outputs": [
        {
          "output_type": "execute_result",
          "data": {
            "text/plain": [
              "(235500, 30100, 1010)"
            ]
          },
          "metadata": {},
          "execution_count": 118
        }
      ]
    },
    {
      "cell_type": "code",
      "metadata": {
        "colab": {
          "base_uri": "https://localhost:8080/"
        },
        "id": "9mbKCaWNGOWH",
        "outputId": "d63ee08b-1c3a-43bc-c03b-93fd80783cb5"
      },
      "source": [
        "np.sum((784*300+300,300*100+100,100*10+10))"
      ],
      "execution_count": null,
      "outputs": [
        {
          "output_type": "execute_result",
          "data": {
            "text/plain": [
              "266610"
            ]
          },
          "metadata": {},
          "execution_count": 119
        }
      ]
    },
    {
      "cell_type": "code",
      "metadata": {
        "id": "iMzdNwblGOZw"
      },
      "source": [
        "weights,biases=model_clf.layers[1].get_weights()"
      ],
      "execution_count": null,
      "outputs": []
    },
    {
      "cell_type": "code",
      "metadata": {
        "colab": {
          "base_uri": "https://localhost:8080/"
        },
        "id": "etKJh1irJFAc",
        "outputId": "96a09734-6e3d-4978-acda-7a30a20649aa"
      },
      "source": [
        "weights.shape"
      ],
      "execution_count": null,
      "outputs": [
        {
          "output_type": "execute_result",
          "data": {
            "text/plain": [
              "(784, 300)"
            ]
          },
          "metadata": {},
          "execution_count": 121
        }
      ]
    },
    {
      "cell_type": "code",
      "metadata": {
        "colab": {
          "base_uri": "https://localhost:8080/"
        },
        "id": "kLhFXHNhJFYu",
        "outputId": "1e59a23c-e3b8-4244-b5de-bd189d6ec158"
      },
      "source": [
        "biases.shape"
      ],
      "execution_count": null,
      "outputs": [
        {
          "output_type": "execute_result",
          "data": {
            "text/plain": [
              "(300,)"
            ]
          },
          "metadata": {},
          "execution_count": 122
        }
      ]
    },
    {
      "cell_type": "code",
      "metadata": {
        "id": "02uc7cB3JkTF"
      },
      "source": [
        "LOSS_FUNCTION='sparse_categorical_crossentropy'\n",
        "OPTIMIZER='SGD'\n",
        "METRICS=['accuracy']\n",
        "model_clf.compile(loss=LOSS_FUNCTION,optimizer=OPTIMIZER,metrics=METRICS)"
      ],
      "execution_count": null,
      "outputs": []
    },
    {
      "cell_type": "code",
      "metadata": {
        "id": "7fipCgWLPedN"
      },
      "source": [
        ""
      ],
      "execution_count": null,
      "outputs": []
    },
    {
      "cell_type": "markdown",
      "metadata": {
        "id": "CnR1phhaPlGa"
      },
      "source": [
        "By default batch_size=32\n",
        "55000/32=1719"
      ]
    },
    {
      "cell_type": "code",
      "metadata": {
        "colab": {
          "base_uri": "https://localhost:8080/"
        },
        "id": "dFp6rP8AJkVz",
        "outputId": "95775bc3-fa5f-4ed8-bc38-412687944841"
      },
      "source": [
        "EPOCHS=30\n",
        "VALIDATION=(X_valid,y_valid)\n",
        "\n",
        "\n",
        "history=model_clf.fit(X_train,y_train,epochs=EPOCHS,validation_data=VALIDATION)"
      ],
      "execution_count": null,
      "outputs": [
        {
          "output_type": "stream",
          "name": "stdout",
          "text": [
            "Epoch 1/30\n",
            "1719/1719 [==============================] - 8s 3ms/step - loss: 0.0157 - accuracy: 0.0988 - val_loss: 5.3797e-04 - val_accuracy: 0.0958\n",
            "Epoch 2/30\n",
            "1719/1719 [==============================] - 5s 3ms/step - loss: 4.2294e-04 - accuracy: 0.0990 - val_loss: 2.4346e-04 - val_accuracy: 0.0958\n",
            "Epoch 3/30\n",
            "1719/1719 [==============================] - 5s 3ms/step - loss: 2.3447e-04 - accuracy: 0.0990 - val_loss: 1.5385e-04 - val_accuracy: 0.0958\n",
            "Epoch 4/30\n",
            "1719/1719 [==============================] - 5s 3ms/step - loss: 1.6142e-04 - accuracy: 0.0990 - val_loss: 1.1124e-04 - val_accuracy: 0.0958\n",
            "Epoch 5/30\n",
            "1719/1719 [==============================] - 5s 3ms/step - loss: 1.2263e-04 - accuracy: 0.0990 - val_loss: 8.6531e-05 - val_accuracy: 0.0958\n",
            "Epoch 6/30\n",
            "1719/1719 [==============================] - 5s 3ms/step - loss: 9.8621e-05 - accuracy: 0.0990 - val_loss: 7.0510e-05 - val_accuracy: 0.0958\n",
            "Epoch 7/30\n",
            "1719/1719 [==============================] - 5s 3ms/step - loss: 8.2334e-05 - accuracy: 0.0990 - val_loss: 5.9317e-05 - val_accuracy: 0.0958\n",
            "Epoch 8/30\n",
            "1719/1719 [==============================] - 5s 3ms/step - loss: 7.0579e-05 - accuracy: 0.0990 - val_loss: 5.1076e-05 - val_accuracy: 0.0958\n",
            "Epoch 9/30\n",
            "1719/1719 [==============================] - 5s 3ms/step - loss: 6.1701e-05 - accuracy: 0.0990 - val_loss: 4.4769e-05 - val_accuracy: 0.0958\n",
            "Epoch 10/30\n",
            "1719/1719 [==============================] - 5s 3ms/step - loss: 5.4767e-05 - accuracy: 0.0990 - val_loss: 3.9793e-05 - val_accuracy: 0.0958\n",
            "Epoch 11/30\n",
            "1719/1719 [==============================] - 5s 3ms/step - loss: 4.9206e-05 - accuracy: 0.0990 - val_loss: 3.5774e-05 - val_accuracy: 0.0958\n",
            "Epoch 12/30\n",
            "1719/1719 [==============================] - 5s 3ms/step - loss: 4.4648e-05 - accuracy: 0.0990 - val_loss: 3.2459e-05 - val_accuracy: 0.0958\n",
            "Epoch 13/30\n",
            "1719/1719 [==============================] - 5s 3ms/step - loss: 4.0847e-05 - accuracy: 0.0990 - val_loss: 2.9685e-05 - val_accuracy: 0.0958\n",
            "Epoch 14/30\n",
            "1719/1719 [==============================] - 5s 3ms/step - loss: 3.7630e-05 - accuracy: 0.0990 - val_loss: 2.7331e-05 - val_accuracy: 0.0958\n",
            "Epoch 15/30\n",
            "1719/1719 [==============================] - 5s 3ms/step - loss: 3.4873e-05 - accuracy: 0.0990 - val_loss: 2.5307e-05 - val_accuracy: 0.0958\n",
            "Epoch 16/30\n",
            "1719/1719 [==============================] - 5s 3ms/step - loss: 3.2484e-05 - accuracy: 0.0990 - val_loss: 2.3549e-05 - val_accuracy: 0.0958\n",
            "Epoch 17/30\n",
            "1719/1719 [==============================] - 5s 3ms/step - loss: 3.0395e-05 - accuracy: 0.0990 - val_loss: 2.2010e-05 - val_accuracy: 0.0958\n",
            "Epoch 18/30\n",
            "1719/1719 [==============================] - 5s 3ms/step - loss: 2.8554e-05 - accuracy: 0.0990 - val_loss: 2.0651e-05 - val_accuracy: 0.0958\n",
            "Epoch 19/30\n",
            "1719/1719 [==============================] - 5s 3ms/step - loss: 2.6918e-05 - accuracy: 0.0990 - val_loss: 1.9444e-05 - val_accuracy: 0.0958\n",
            "Epoch 20/30\n",
            "1719/1719 [==============================] - 5s 3ms/step - loss: 2.5456e-05 - accuracy: 0.0990 - val_loss: 1.8363e-05 - val_accuracy: 0.0958\n",
            "Epoch 21/30\n",
            "1719/1719 [==============================] - 5s 3ms/step - loss: 2.4142e-05 - accuracy: 0.0990 - val_loss: 1.7394e-05 - val_accuracy: 0.0958\n",
            "Epoch 22/30\n",
            "1719/1719 [==============================] - 5s 3ms/step - loss: 2.2955e-05 - accuracy: 0.0990 - val_loss: 1.6517e-05 - val_accuracy: 0.0958\n",
            "Epoch 23/30\n",
            "1719/1719 [==============================] - 5s 3ms/step - loss: 2.1876e-05 - accuracy: 0.0990 - val_loss: 1.5720e-05 - val_accuracy: 0.0958\n",
            "Epoch 24/30\n",
            "1719/1719 [==============================] - 5s 3ms/step - loss: 2.0893e-05 - accuracy: 0.0990 - val_loss: 1.4993e-05 - val_accuracy: 0.0958\n",
            "Epoch 25/30\n",
            "1719/1719 [==============================] - 5s 3ms/step - loss: 1.9992e-05 - accuracy: 0.0990 - val_loss: 1.4328e-05 - val_accuracy: 0.0958\n",
            "Epoch 26/30\n",
            "1719/1719 [==============================] - 5s 3ms/step - loss: 1.9165e-05 - accuracy: 0.0990 - val_loss: 1.3717e-05 - val_accuracy: 0.0958\n",
            "Epoch 27/30\n",
            "1719/1719 [==============================] - 5s 3ms/step - loss: 1.8402e-05 - accuracy: 0.0990 - val_loss: 1.3155e-05 - val_accuracy: 0.0958\n",
            "Epoch 28/30\n",
            "1719/1719 [==============================] - 5s 3ms/step - loss: 1.7697e-05 - accuracy: 0.0990 - val_loss: 1.2634e-05 - val_accuracy: 0.0958\n",
            "Epoch 29/30\n",
            "1719/1719 [==============================] - 5s 3ms/step - loss: 1.7043e-05 - accuracy: 0.0990 - val_loss: 1.2151e-05 - val_accuracy: 0.0958\n",
            "Epoch 30/30\n",
            "1719/1719 [==============================] - 5s 3ms/step - loss: 1.6435e-05 - accuracy: 0.0990 - val_loss: 1.1703e-05 - val_accuracy: 0.0958\n"
          ]
        }
      ]
    },
    {
      "cell_type": "code",
      "metadata": {
        "colab": {
          "base_uri": "https://localhost:8080/"
        },
        "id": "8TOZGw4aJkZd",
        "outputId": "c298fac8-bb70-4290-c975-bbf422195870"
      },
      "source": [
        "history.params\n"
      ],
      "execution_count": null,
      "outputs": [
        {
          "output_type": "execute_result",
          "data": {
            "text/plain": [
              "{'epochs': 30, 'steps': 1719, 'verbose': 1}"
            ]
          },
          "metadata": {},
          "execution_count": 127
        }
      ]
    },
    {
      "cell_type": "code",
      "metadata": {
        "colab": {
          "base_uri": "https://localhost:8080/",
          "height": 989
        },
        "id": "zIdECgAoQFCX",
        "outputId": "26ddfb58-481c-4c76-a79f-ef7eee5921c9"
      },
      "source": [
        "pd.DataFrame(history.history)"
      ],
      "execution_count": null,
      "outputs": [
        {
          "output_type": "execute_result",
          "data": {
            "text/html": [
              "<div>\n",
              "<style scoped>\n",
              "    .dataframe tbody tr th:only-of-type {\n",
              "        vertical-align: middle;\n",
              "    }\n",
              "\n",
              "    .dataframe tbody tr th {\n",
              "        vertical-align: top;\n",
              "    }\n",
              "\n",
              "    .dataframe thead th {\n",
              "        text-align: right;\n",
              "    }\n",
              "</style>\n",
              "<table border=\"1\" class=\"dataframe\">\n",
              "  <thead>\n",
              "    <tr style=\"text-align: right;\">\n",
              "      <th></th>\n",
              "      <th>loss</th>\n",
              "      <th>accuracy</th>\n",
              "      <th>val_loss</th>\n",
              "      <th>val_accuracy</th>\n",
              "    </tr>\n",
              "  </thead>\n",
              "  <tbody>\n",
              "    <tr>\n",
              "      <th>0</th>\n",
              "      <td>0.015697</td>\n",
              "      <td>0.098836</td>\n",
              "      <td>0.000538</td>\n",
              "      <td>0.0958</td>\n",
              "    </tr>\n",
              "    <tr>\n",
              "      <th>1</th>\n",
              "      <td>0.000423</td>\n",
              "      <td>0.098982</td>\n",
              "      <td>0.000243</td>\n",
              "      <td>0.0958</td>\n",
              "    </tr>\n",
              "    <tr>\n",
              "      <th>2</th>\n",
              "      <td>0.000234</td>\n",
              "      <td>0.098982</td>\n",
              "      <td>0.000154</td>\n",
              "      <td>0.0958</td>\n",
              "    </tr>\n",
              "    <tr>\n",
              "      <th>3</th>\n",
              "      <td>0.000161</td>\n",
              "      <td>0.098982</td>\n",
              "      <td>0.000111</td>\n",
              "      <td>0.0958</td>\n",
              "    </tr>\n",
              "    <tr>\n",
              "      <th>4</th>\n",
              "      <td>0.000123</td>\n",
              "      <td>0.098982</td>\n",
              "      <td>0.000087</td>\n",
              "      <td>0.0958</td>\n",
              "    </tr>\n",
              "    <tr>\n",
              "      <th>5</th>\n",
              "      <td>0.000099</td>\n",
              "      <td>0.098982</td>\n",
              "      <td>0.000071</td>\n",
              "      <td>0.0958</td>\n",
              "    </tr>\n",
              "    <tr>\n",
              "      <th>6</th>\n",
              "      <td>0.000082</td>\n",
              "      <td>0.098982</td>\n",
              "      <td>0.000059</td>\n",
              "      <td>0.0958</td>\n",
              "    </tr>\n",
              "    <tr>\n",
              "      <th>7</th>\n",
              "      <td>0.000071</td>\n",
              "      <td>0.098982</td>\n",
              "      <td>0.000051</td>\n",
              "      <td>0.0958</td>\n",
              "    </tr>\n",
              "    <tr>\n",
              "      <th>8</th>\n",
              "      <td>0.000062</td>\n",
              "      <td>0.098982</td>\n",
              "      <td>0.000045</td>\n",
              "      <td>0.0958</td>\n",
              "    </tr>\n",
              "    <tr>\n",
              "      <th>9</th>\n",
              "      <td>0.000055</td>\n",
              "      <td>0.098982</td>\n",
              "      <td>0.000040</td>\n",
              "      <td>0.0958</td>\n",
              "    </tr>\n",
              "    <tr>\n",
              "      <th>10</th>\n",
              "      <td>0.000049</td>\n",
              "      <td>0.098982</td>\n",
              "      <td>0.000036</td>\n",
              "      <td>0.0958</td>\n",
              "    </tr>\n",
              "    <tr>\n",
              "      <th>11</th>\n",
              "      <td>0.000045</td>\n",
              "      <td>0.098982</td>\n",
              "      <td>0.000032</td>\n",
              "      <td>0.0958</td>\n",
              "    </tr>\n",
              "    <tr>\n",
              "      <th>12</th>\n",
              "      <td>0.000041</td>\n",
              "      <td>0.098982</td>\n",
              "      <td>0.000030</td>\n",
              "      <td>0.0958</td>\n",
              "    </tr>\n",
              "    <tr>\n",
              "      <th>13</th>\n",
              "      <td>0.000038</td>\n",
              "      <td>0.098982</td>\n",
              "      <td>0.000027</td>\n",
              "      <td>0.0958</td>\n",
              "    </tr>\n",
              "    <tr>\n",
              "      <th>14</th>\n",
              "      <td>0.000035</td>\n",
              "      <td>0.098982</td>\n",
              "      <td>0.000025</td>\n",
              "      <td>0.0958</td>\n",
              "    </tr>\n",
              "    <tr>\n",
              "      <th>15</th>\n",
              "      <td>0.000032</td>\n",
              "      <td>0.098982</td>\n",
              "      <td>0.000024</td>\n",
              "      <td>0.0958</td>\n",
              "    </tr>\n",
              "    <tr>\n",
              "      <th>16</th>\n",
              "      <td>0.000030</td>\n",
              "      <td>0.098982</td>\n",
              "      <td>0.000022</td>\n",
              "      <td>0.0958</td>\n",
              "    </tr>\n",
              "    <tr>\n",
              "      <th>17</th>\n",
              "      <td>0.000029</td>\n",
              "      <td>0.098982</td>\n",
              "      <td>0.000021</td>\n",
              "      <td>0.0958</td>\n",
              "    </tr>\n",
              "    <tr>\n",
              "      <th>18</th>\n",
              "      <td>0.000027</td>\n",
              "      <td>0.098982</td>\n",
              "      <td>0.000019</td>\n",
              "      <td>0.0958</td>\n",
              "    </tr>\n",
              "    <tr>\n",
              "      <th>19</th>\n",
              "      <td>0.000025</td>\n",
              "      <td>0.098982</td>\n",
              "      <td>0.000018</td>\n",
              "      <td>0.0958</td>\n",
              "    </tr>\n",
              "    <tr>\n",
              "      <th>20</th>\n",
              "      <td>0.000024</td>\n",
              "      <td>0.098982</td>\n",
              "      <td>0.000017</td>\n",
              "      <td>0.0958</td>\n",
              "    </tr>\n",
              "    <tr>\n",
              "      <th>21</th>\n",
              "      <td>0.000023</td>\n",
              "      <td>0.098982</td>\n",
              "      <td>0.000017</td>\n",
              "      <td>0.0958</td>\n",
              "    </tr>\n",
              "    <tr>\n",
              "      <th>22</th>\n",
              "      <td>0.000022</td>\n",
              "      <td>0.098982</td>\n",
              "      <td>0.000016</td>\n",
              "      <td>0.0958</td>\n",
              "    </tr>\n",
              "    <tr>\n",
              "      <th>23</th>\n",
              "      <td>0.000021</td>\n",
              "      <td>0.098982</td>\n",
              "      <td>0.000015</td>\n",
              "      <td>0.0958</td>\n",
              "    </tr>\n",
              "    <tr>\n",
              "      <th>24</th>\n",
              "      <td>0.000020</td>\n",
              "      <td>0.098982</td>\n",
              "      <td>0.000014</td>\n",
              "      <td>0.0958</td>\n",
              "    </tr>\n",
              "    <tr>\n",
              "      <th>25</th>\n",
              "      <td>0.000019</td>\n",
              "      <td>0.098982</td>\n",
              "      <td>0.000014</td>\n",
              "      <td>0.0958</td>\n",
              "    </tr>\n",
              "    <tr>\n",
              "      <th>26</th>\n",
              "      <td>0.000018</td>\n",
              "      <td>0.098982</td>\n",
              "      <td>0.000013</td>\n",
              "      <td>0.0958</td>\n",
              "    </tr>\n",
              "    <tr>\n",
              "      <th>27</th>\n",
              "      <td>0.000018</td>\n",
              "      <td>0.098982</td>\n",
              "      <td>0.000013</td>\n",
              "      <td>0.0958</td>\n",
              "    </tr>\n",
              "    <tr>\n",
              "      <th>28</th>\n",
              "      <td>0.000017</td>\n",
              "      <td>0.098982</td>\n",
              "      <td>0.000012</td>\n",
              "      <td>0.0958</td>\n",
              "    </tr>\n",
              "    <tr>\n",
              "      <th>29</th>\n",
              "      <td>0.000016</td>\n",
              "      <td>0.098982</td>\n",
              "      <td>0.000012</td>\n",
              "      <td>0.0958</td>\n",
              "    </tr>\n",
              "  </tbody>\n",
              "</table>\n",
              "</div>"
            ],
            "text/plain": [
              "        loss  accuracy  val_loss  val_accuracy\n",
              "0   0.015697  0.098836  0.000538        0.0958\n",
              "1   0.000423  0.098982  0.000243        0.0958\n",
              "2   0.000234  0.098982  0.000154        0.0958\n",
              "3   0.000161  0.098982  0.000111        0.0958\n",
              "4   0.000123  0.098982  0.000087        0.0958\n",
              "5   0.000099  0.098982  0.000071        0.0958\n",
              "6   0.000082  0.098982  0.000059        0.0958\n",
              "7   0.000071  0.098982  0.000051        0.0958\n",
              "8   0.000062  0.098982  0.000045        0.0958\n",
              "9   0.000055  0.098982  0.000040        0.0958\n",
              "10  0.000049  0.098982  0.000036        0.0958\n",
              "11  0.000045  0.098982  0.000032        0.0958\n",
              "12  0.000041  0.098982  0.000030        0.0958\n",
              "13  0.000038  0.098982  0.000027        0.0958\n",
              "14  0.000035  0.098982  0.000025        0.0958\n",
              "15  0.000032  0.098982  0.000024        0.0958\n",
              "16  0.000030  0.098982  0.000022        0.0958\n",
              "17  0.000029  0.098982  0.000021        0.0958\n",
              "18  0.000027  0.098982  0.000019        0.0958\n",
              "19  0.000025  0.098982  0.000018        0.0958\n",
              "20  0.000024  0.098982  0.000017        0.0958\n",
              "21  0.000023  0.098982  0.000017        0.0958\n",
              "22  0.000022  0.098982  0.000016        0.0958\n",
              "23  0.000021  0.098982  0.000015        0.0958\n",
              "24  0.000020  0.098982  0.000014        0.0958\n",
              "25  0.000019  0.098982  0.000014        0.0958\n",
              "26  0.000018  0.098982  0.000013        0.0958\n",
              "27  0.000018  0.098982  0.000013        0.0958\n",
              "28  0.000017  0.098982  0.000012        0.0958\n",
              "29  0.000016  0.098982  0.000012        0.0958"
            ]
          },
          "metadata": {},
          "execution_count": 132
        }
      ]
    },
    {
      "cell_type": "code",
      "metadata": {
        "colab": {
          "base_uri": "https://localhost:8080/",
          "height": 428
        },
        "id": "FDoBlT1WQFFm",
        "outputId": "97ae456d-6934-41af-ed7b-37f098c35113"
      },
      "source": [
        "pd.DataFrame(history.history).plot(figsize=(10,7))\n",
        "plt.grid(True)\n",
        "plt.show()"
      ],
      "execution_count": null,
      "outputs": [
        {
          "output_type": "display_data",
          "data": {
            "image/png": "[encoded data removed]",
            "text/plain": [
              "<Figure size 720x504 with 1 Axes>"
            ]
          },
          "metadata": {
            "needs_background": "light"
          }
        }
      ]
    },
    {
      "cell_type": "code",
      "metadata": {
        "colab": {
          "base_uri": "https://localhost:8080/"
        },
        "id": "67NykCt0QFJS",
        "outputId": "cdb1d2a8-4631-4468-d9d7-ca071aafd1fc"
      },
      "source": [
        "model_clf.evaluate(X_test,y_test)"
      ],
      "execution_count": null,
      "outputs": [
        {
          "output_type": "stream",
          "name": "stdout",
          "text": [
            "313/313 [==============================] - 1s 3ms/step - loss: 18.5894 - accuracy: 0.0980\n"
          ]
        },
        {
          "output_type": "execute_result",
          "data": {
            "text/plain": [
              "[18.589393615722656, 0.09799999743700027]"
            ]
          },
          "metadata": {},
          "execution_count": 134
        }
      ]
    },
    {
      "cell_type": "code",
      "metadata": {
        "colab": {
          "base_uri": "https://localhost:8080/"
        },
        "id": "k5-KUiNpQFMA",
        "outputId": "84e316de-d944-4700-af8a-353d37f4eae2"
      },
      "source": [
        "10000/32"
      ],
      "execution_count": null,
      "outputs": [
        {
          "output_type": "execute_result",
          "data": {
            "text/plain": [
              "312.5"
            ]
          },
          "metadata": {},
          "execution_count": 135
        }
      ]
    },
    {
      "cell_type": "code",
      "metadata": {
        "colab": {
          "base_uri": "https://localhost:8080/"
        },
        "id": "syCgCIFNQFa9",
        "outputId": "a430191b-664b-4a00-80f1-5239afae6f45"
      },
      "source": [
        "X_new=X_test[:3]\n",
        "y_prob=model_clf.predict(X_new)\n",
        "y_prob.round(3)"
      ],
      "execution_count": null,
      "outputs": [
        {
          "output_type": "execute_result",
          "data": {
            "text/plain": [
              "array([[1., 0., 0., 0., 0., 0., 0., 0., 0., 0.],\n",
              "       [1., 0., 0., 0., 0., 0., 0., 0., 0., 0.],\n",
              "       [1., 0., 0., 0., 0., 0., 0., 0., 0., 0.]], dtype=float32)"
            ]
          },
          "metadata": {},
          "execution_count": 140
        }
      ]
    },
    {
      "cell_type": "code",
      "metadata": {
        "colab": {
          "base_uri": "https://localhost:8080/"
        },
        "id": "wvAXtCaVTvFL",
        "outputId": "7bf8fa27-d397-40c2-c54b-354305f24f96"
      },
      "source": [
        "y_prob.shape"
      ],
      "execution_count": null,
      "outputs": [
        {
          "output_type": "execute_result",
          "data": {
            "text/plain": [
              "(3, 10)"
            ]
          },
          "metadata": {},
          "execution_count": 146
        }
      ]
    },
    {
      "cell_type": "code",
      "metadata": {
        "colab": {
          "base_uri": "https://localhost:8080/"
        },
        "id": "DL9t7lOsTvZw",
        "outputId": "abd2e442-ff7f-49a4-a492-494ac274ca6e"
      },
      "source": [
        "Y_pred=np.argmax(y_prob,axis=-1)\n",
        "Y_pred"
      ],
      "execution_count": null,
      "outputs": [
        {
          "output_type": "execute_result",
          "data": {
            "text/plain": [
              "array([0, 0, 0])"
            ]
          },
          "metadata": {},
          "execution_count": 148
        }
      ]
    },
    {
      "cell_type": "code",
      "metadata": {
        "colab": {
          "base_uri": "https://localhost:8080/",
          "height": 810
        },
        "id": "adv2inf2S_FG",
        "outputId": "500619ce-634d-4e66-a072-65c50f48d6bb"
      },
      "source": [
        "for img_array,pred,actual in zip(X_new,Y_pred,y_test[:3]):\n",
        "  plt.imshow(img_array,cmap='binary')\n",
        "  plt.title(f'predicted:{pred},Actual:{actual}')\n",
        "  plt.axis('off')\n",
        "  plt.show()\n",
        "  print('---'*20)\n"
      ],
      "execution_count": null,
      "outputs": [
        {
          "output_type": "display_data",
          "data": {
            "image/png": "[encoded data removed]",
            "text/plain": [
              "<Figure size 432x288 with 1 Axes>"
            ]
          },
          "metadata": {
            "needs_background": "light"
          }
        },
        {
          "output_type": "stream",
          "name": "stdout",
          "text": [
            "------------------------------------------------------------\n"
          ]
        },
        {
          "output_type": "display_data",
          "data": {
            "image/png": "[encoded data removed]",
            "text/plain": [
              "<Figure size 432x288 with 1 Axes>"
            ]
          },
          "metadata": {
            "needs_background": "light"
          }
        },
        {
          "output_type": "stream",
          "name": "stdout",
          "text": [
            "------------------------------------------------------------\n"
          ]
        },
        {
          "output_type": "display_data",
          "data": {
            "image/png": "[encoded data removed]",
            "text/plain": [
              "<Figure size 432x288 with 1 Axes>"
            ]
          },
          "metadata": {
            "needs_background": "light"
          }
        },
        {
          "output_type": "stream",
          "name": "stdout",
          "text": [
            "------------------------------------------------------------\n"
          ]
        }
      ]
    },
    {
      "cell_type": "code",
      "metadata": {
        "id": "GOnKK3wkS_Ic"
      },
      "source": [
        ""
      ],
      "execution_count": null,
      "outputs": []
    }
  ]
}